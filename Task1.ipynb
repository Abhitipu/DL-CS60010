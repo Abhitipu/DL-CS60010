{
  "nbformat": 4,
  "nbformat_minor": 0,
  "metadata": {
    "colab": {
      "name": "Task1.ipynb",
      "provenance": [],
      "authorship_tag": "ABX9TyNM/CiOeYFffKZqm76BuJn4",
      "include_colab_link": true
    },
    "kernelspec": {
      "name": "python3",
      "display_name": "Python 3"
    },
    "language_info": {
      "name": "python"
    },
    "widgets": {
      "application/vnd.jupyter.widget-state+json": {
        "6c833ef9aa204910b1bb36f71a2c9552": {
          "model_module": "@jupyter-widgets/controls",
          "model_name": "HBoxModel",
          "model_module_version": "1.5.0",
          "state": {
            "_dom_classes": [],
            "_model_module": "@jupyter-widgets/controls",
            "_model_module_version": "1.5.0",
            "_model_name": "HBoxModel",
            "_view_count": null,
            "_view_module": "@jupyter-widgets/controls",
            "_view_module_version": "1.5.0",
            "_view_name": "HBoxView",
            "box_style": "",
            "children": [
              "IPY_MODEL_c5695d2833384af48f3043accaae79e5",
              "IPY_MODEL_1d9f51026bff45b5973de4312e48af2e",
              "IPY_MODEL_050de96c6e754739979f50a75e144a59"
            ],
            "layout": "IPY_MODEL_15ae04e428434f07952c2acdfb37d461"
          }
        },
        "c5695d2833384af48f3043accaae79e5": {
          "model_module": "@jupyter-widgets/controls",
          "model_name": "HTMLModel",
          "model_module_version": "1.5.0",
          "state": {
            "_dom_classes": [],
            "_model_module": "@jupyter-widgets/controls",
            "_model_module_version": "1.5.0",
            "_model_name": "HTMLModel",
            "_view_count": null,
            "_view_module": "@jupyter-widgets/controls",
            "_view_module_version": "1.5.0",
            "_view_name": "HTMLView",
            "description": "",
            "description_tooltip": null,
            "layout": "IPY_MODEL_3106fafa1e2147c795f732f5a5162a9a",
            "placeholder": "​",
            "style": "IPY_MODEL_12a36cc591ca468180a817935c6658c8",
            "value": "100%"
          }
        },
        "1d9f51026bff45b5973de4312e48af2e": {
          "model_module": "@jupyter-widgets/controls",
          "model_name": "FloatProgressModel",
          "model_module_version": "1.5.0",
          "state": {
            "_dom_classes": [],
            "_model_module": "@jupyter-widgets/controls",
            "_model_module_version": "1.5.0",
            "_model_name": "FloatProgressModel",
            "_view_count": null,
            "_view_module": "@jupyter-widgets/controls",
            "_view_module_version": "1.5.0",
            "_view_name": "ProgressView",
            "bar_style": "success",
            "description": "",
            "description_tooltip": null,
            "layout": "IPY_MODEL_e9507c57e0ac464ba76bfc7a0e256b24",
            "max": 2,
            "min": 0,
            "orientation": "horizontal",
            "style": "IPY_MODEL_9cf20c66b0ca430ca92c113ddc4a0877",
            "value": 2
          }
        },
        "050de96c6e754739979f50a75e144a59": {
          "model_module": "@jupyter-widgets/controls",
          "model_name": "HTMLModel",
          "model_module_version": "1.5.0",
          "state": {
            "_dom_classes": [],
            "_model_module": "@jupyter-widgets/controls",
            "_model_module_version": "1.5.0",
            "_model_name": "HTMLModel",
            "_view_count": null,
            "_view_module": "@jupyter-widgets/controls",
            "_view_module_version": "1.5.0",
            "_view_name": "HTMLView",
            "description": "",
            "description_tooltip": null,
            "layout": "IPY_MODEL_afb1cfc01190408fbd9ff7b9d1896a94",
            "placeholder": "​",
            "style": "IPY_MODEL_7e0a8067b03e469fabb440b51f936edf",
            "value": " 2/2 [00:00&lt;00:00, 37.77it/s]"
          }
        },
        "15ae04e428434f07952c2acdfb37d461": {
          "model_module": "@jupyter-widgets/base",
          "model_name": "LayoutModel",
          "model_module_version": "1.2.0",
          "state": {
            "_model_module": "@jupyter-widgets/base",
            "_model_module_version": "1.2.0",
            "_model_name": "LayoutModel",
            "_view_count": null,
            "_view_module": "@jupyter-widgets/base",
            "_view_module_version": "1.2.0",
            "_view_name": "LayoutView",
            "align_content": null,
            "align_items": null,
            "align_self": null,
            "border": null,
            "bottom": null,
            "display": null,
            "flex": null,
            "flex_flow": null,
            "grid_area": null,
            "grid_auto_columns": null,
            "grid_auto_flow": null,
            "grid_auto_rows": null,
            "grid_column": null,
            "grid_gap": null,
            "grid_row": null,
            "grid_template_areas": null,
            "grid_template_columns": null,
            "grid_template_rows": null,
            "height": null,
            "justify_content": null,
            "justify_items": null,
            "left": null,
            "margin": null,
            "max_height": null,
            "max_width": null,
            "min_height": null,
            "min_width": null,
            "object_fit": null,
            "object_position": null,
            "order": null,
            "overflow": null,
            "overflow_x": null,
            "overflow_y": null,
            "padding": null,
            "right": null,
            "top": null,
            "visibility": null,
            "width": null
          }
        },
        "3106fafa1e2147c795f732f5a5162a9a": {
          "model_module": "@jupyter-widgets/base",
          "model_name": "LayoutModel",
          "model_module_version": "1.2.0",
          "state": {
            "_model_module": "@jupyter-widgets/base",
            "_model_module_version": "1.2.0",
            "_model_name": "LayoutModel",
            "_view_count": null,
            "_view_module": "@jupyter-widgets/base",
            "_view_module_version": "1.2.0",
            "_view_name": "LayoutView",
            "align_content": null,
            "align_items": null,
            "align_self": null,
            "border": null,
            "bottom": null,
            "display": null,
            "flex": null,
            "flex_flow": null,
            "grid_area": null,
            "grid_auto_columns": null,
            "grid_auto_flow": null,
            "grid_auto_rows": null,
            "grid_column": null,
            "grid_gap": null,
            "grid_row": null,
            "grid_template_areas": null,
            "grid_template_columns": null,
            "grid_template_rows": null,
            "height": null,
            "justify_content": null,
            "justify_items": null,
            "left": null,
            "margin": null,
            "max_height": null,
            "max_width": null,
            "min_height": null,
            "min_width": null,
            "object_fit": null,
            "object_position": null,
            "order": null,
            "overflow": null,
            "overflow_x": null,
            "overflow_y": null,
            "padding": null,
            "right": null,
            "top": null,
            "visibility": null,
            "width": null
          }
        },
        "12a36cc591ca468180a817935c6658c8": {
          "model_module": "@jupyter-widgets/controls",
          "model_name": "DescriptionStyleModel",
          "model_module_version": "1.5.0",
          "state": {
            "_model_module": "@jupyter-widgets/controls",
            "_model_module_version": "1.5.0",
            "_model_name": "DescriptionStyleModel",
            "_view_count": null,
            "_view_module": "@jupyter-widgets/base",
            "_view_module_version": "1.2.0",
            "_view_name": "StyleView",
            "description_width": ""
          }
        },
        "e9507c57e0ac464ba76bfc7a0e256b24": {
          "model_module": "@jupyter-widgets/base",
          "model_name": "LayoutModel",
          "model_module_version": "1.2.0",
          "state": {
            "_model_module": "@jupyter-widgets/base",
            "_model_module_version": "1.2.0",
            "_model_name": "LayoutModel",
            "_view_count": null,
            "_view_module": "@jupyter-widgets/base",
            "_view_module_version": "1.2.0",
            "_view_name": "LayoutView",
            "align_content": null,
            "align_items": null,
            "align_self": null,
            "border": null,
            "bottom": null,
            "display": null,
            "flex": null,
            "flex_flow": null,
            "grid_area": null,
            "grid_auto_columns": null,
            "grid_auto_flow": null,
            "grid_auto_rows": null,
            "grid_column": null,
            "grid_gap": null,
            "grid_row": null,
            "grid_template_areas": null,
            "grid_template_columns": null,
            "grid_template_rows": null,
            "height": null,
            "justify_content": null,
            "justify_items": null,
            "left": null,
            "margin": null,
            "max_height": null,
            "max_width": null,
            "min_height": null,
            "min_width": null,
            "object_fit": null,
            "object_position": null,
            "order": null,
            "overflow": null,
            "overflow_x": null,
            "overflow_y": null,
            "padding": null,
            "right": null,
            "top": null,
            "visibility": null,
            "width": null
          }
        },
        "9cf20c66b0ca430ca92c113ddc4a0877": {
          "model_module": "@jupyter-widgets/controls",
          "model_name": "ProgressStyleModel",
          "model_module_version": "1.5.0",
          "state": {
            "_model_module": "@jupyter-widgets/controls",
            "_model_module_version": "1.5.0",
            "_model_name": "ProgressStyleModel",
            "_view_count": null,
            "_view_module": "@jupyter-widgets/base",
            "_view_module_version": "1.2.0",
            "_view_name": "StyleView",
            "bar_color": null,
            "description_width": ""
          }
        },
        "afb1cfc01190408fbd9ff7b9d1896a94": {
          "model_module": "@jupyter-widgets/base",
          "model_name": "LayoutModel",
          "model_module_version": "1.2.0",
          "state": {
            "_model_module": "@jupyter-widgets/base",
            "_model_module_version": "1.2.0",
            "_model_name": "LayoutModel",
            "_view_count": null,
            "_view_module": "@jupyter-widgets/base",
            "_view_module_version": "1.2.0",
            "_view_name": "LayoutView",
            "align_content": null,
            "align_items": null,
            "align_self": null,
            "border": null,
            "bottom": null,
            "display": null,
            "flex": null,
            "flex_flow": null,
            "grid_area": null,
            "grid_auto_columns": null,
            "grid_auto_flow": null,
            "grid_auto_rows": null,
            "grid_column": null,
            "grid_gap": null,
            "grid_row": null,
            "grid_template_areas": null,
            "grid_template_columns": null,
            "grid_template_rows": null,
            "height": null,
            "justify_content": null,
            "justify_items": null,
            "left": null,
            "margin": null,
            "max_height": null,
            "max_width": null,
            "min_height": null,
            "min_width": null,
            "object_fit": null,
            "object_position": null,
            "order": null,
            "overflow": null,
            "overflow_x": null,
            "overflow_y": null,
            "padding": null,
            "right": null,
            "top": null,
            "visibility": null,
            "width": null
          }
        },
        "7e0a8067b03e469fabb440b51f936edf": {
          "model_module": "@jupyter-widgets/controls",
          "model_name": "DescriptionStyleModel",
          "model_module_version": "1.5.0",
          "state": {
            "_model_module": "@jupyter-widgets/controls",
            "_model_module_version": "1.5.0",
            "_model_name": "DescriptionStyleModel",
            "_view_count": null,
            "_view_module": "@jupyter-widgets/base",
            "_view_module_version": "1.2.0",
            "_view_name": "StyleView",
            "description_width": ""
          }
        }
      }
    }
  },
  "cells": [
    {
      "cell_type": "markdown",
      "metadata": {
        "id": "view-in-github",
        "colab_type": "text"
      },
      "source": [
        "<a href=\"https://colab.research.google.com/github/Abhitipu/DL-CS60010/blob/main/Task1.ipynb\" target=\"_parent\"><img src=\"https://colab.research.google.com/assets/colab-badge.svg\" alt=\"Open In Colab\"/></a>"
      ]
    },
    {
      "cell_type": "code",
      "execution_count": null,
      "metadata": {
        "id": "aUzj-NStJbEI"
      },
      "outputs": [],
      "source": [
        "%%capture\n",
        "!pip install pytorch-lightning\n",
        "!pip install datasets\n",
        "!pip install transformers\n",
        "!pip install tqdm"
      ]
    },
    {
      "cell_type": "code",
      "source": [
        "from datasets import load_dataset\n",
        "dataset = load_dataset(\"banking77\")"
      ],
      "metadata": {
        "colab": {
          "base_uri": "https://localhost:8080/",
          "height": 84,
          "referenced_widgets": [
            "6c833ef9aa204910b1bb36f71a2c9552",
            "c5695d2833384af48f3043accaae79e5",
            "1d9f51026bff45b5973de4312e48af2e",
            "050de96c6e754739979f50a75e144a59",
            "15ae04e428434f07952c2acdfb37d461",
            "3106fafa1e2147c795f732f5a5162a9a",
            "12a36cc591ca468180a817935c6658c8",
            "e9507c57e0ac464ba76bfc7a0e256b24",
            "9cf20c66b0ca430ca92c113ddc4a0877",
            "afb1cfc01190408fbd9ff7b9d1896a94",
            "7e0a8067b03e469fabb440b51f936edf"
          ]
        },
        "id": "htXnHSfrJ00W",
        "outputId": "a544dbd5-932d-40f1-f0e9-45abd292fc38"
      },
      "execution_count": null,
      "outputs": [
        {
          "output_type": "stream",
          "name": "stderr",
          "text": [
            "Using custom data configuration default\n",
            "Reusing dataset banking77 (/root/.cache/huggingface/datasets/banking77/default/1.1.0/aec0289529599d4572d76ab00c8944cb84f88410ad0c9e7da26189d31f62a55b)\n"
          ]
        },
        {
          "output_type": "display_data",
          "data": {
            "text/plain": [
              "  0%|          | 0/2 [00:00<?, ?it/s]"
            ],
            "application/vnd.jupyter.widget-view+json": {
              "version_major": 2,
              "version_minor": 0,
              "model_id": "6c833ef9aa204910b1bb36f71a2c9552"
            }
          },
          "metadata": {}
        }
      ]
    },
    {
      "cell_type": "code",
      "source": [
        "train_data = dataset['train']\n",
        "test_data = dataset['test']\n",
        "\n",
        "print(f\"Training data size: {len(train_data)}\")\n",
        "print(f\"Test data size: {len(test_data)}\")"
      ],
      "metadata": {
        "colab": {
          "base_uri": "https://localhost:8080/"
        },
        "id": "fxapezhAKDVM",
        "outputId": "469976e7-ad87-4cbd-e311-da137ee64088"
      },
      "execution_count": null,
      "outputs": [
        {
          "output_type": "stream",
          "name": "stdout",
          "text": [
            "Training data size: 10003\n",
            "Test data size: 3080\n"
          ]
        }
      ]
    },
    {
      "cell_type": "code",
      "source": [
        "import numpy as np\n",
        "import torch\n",
        "from tqdm import tqdm"
      ],
      "metadata": {
        "id": "SBjbNaROKxFR"
      },
      "execution_count": null,
      "outputs": []
    },
    {
      "cell_type": "code",
      "source": [
        "from transformers import BertTokenizer, BertModel\n",
        "model_name = 'bert-base-uncased'"
      ],
      "metadata": {
        "id": "YuL8kSpvQIKz"
      },
      "execution_count": null,
      "outputs": []
    },
    {
      "cell_type": "code",
      "source": [
        "def gen_random_examples(data, labels, n_classes, n_instances):\n",
        "  '''\n",
        "    Generates random examples from a dataset \n",
        "    n_instances per class for n_classes\n",
        "    Outputs are plain text now with integer labels\n",
        "  '''\n",
        "  assert(n_classes * n_instances <= len(data))\n",
        "\n",
        "  freq = np.zeros(n_classes)\n",
        "  complete = 0\n",
        "  new_data = []\n",
        "  new_labels = np.zeros(n_classes * n_instances, dtype=np.int32)\n",
        "  idx = 0\n",
        "  \n",
        "  # Randomization\n",
        "  perm = np.random.permutation(len(labels))\n",
        "  labels = labels[perm]\n",
        "  data = [data[i] for i in perm]\n",
        "\n",
        "  for text, label in zip(data, labels):\n",
        "    if complete == n_classes:\n",
        "      break\n",
        "    if freq[label] < n_instances:\n",
        "      freq[label] += 1\n",
        "      complete += (1 if freq[label] == n_instances else 0)\n",
        "      new_data.append(text)\n",
        "      new_labels[idx] = label\n",
        "      idx += 1\n",
        "    \n",
        "  return (new_data, new_labels)\n",
        "  "
      ],
      "metadata": {
        "id": "qr-UoN1dQx7u"
      },
      "execution_count": null,
      "outputs": []
    },
    {
      "cell_type": "code",
      "source": [
        "class BERT_LM:\n",
        "  def __init__(self, model_name):\n",
        "    self.tokenizer = BertTokenizer.from_pretrained(model_name)\n",
        "    self.model = BertModel.from_pretrained(model_name)\n",
        "  \n",
        "  def encode(self, text):\n",
        "    input_ids = torch.tensor(self.tokenizer.encode(text)).unsqueeze(0)\n",
        "    outputs = self.model(input_ids)\n",
        "    # using cls_embedding\n",
        "    last_hidden_states = outputs[0][:,0].detach().numpy().reshape(-1)\n",
        "    return last_hidden_states\n",
        "\n",
        "  def get_encodings(self, data):\n",
        "    encoded_data = np.array([self.encode(text) for text in data])\n",
        "    return encoded_data"
      ],
      "metadata": {
        "id": "czHliMMTPdxm"
      },
      "execution_count": null,
      "outputs": []
    },
    {
      "cell_type": "code",
      "source": [
        "# Distance functions\n",
        "def cosine_similarity(X, Y):\n",
        "    cos_theta = np.dot(X, Y) / (np.linalg.norm(X) * np.linalg.norm(Y) + 1e-35)\n",
        "    return 1 - cos_theta\n",
        "  \n",
        "def euclidian_distance(X, Y):\n",
        "    ans = np.square(X - Y)\n",
        "    return np.sqrt(np.sum(ans))"
      ],
      "metadata": {
        "id": "HmoM-E5MMHXA"
      },
      "execution_count": null,
      "outputs": []
    },
    {
      "cell_type": "code",
      "source": [
        "class KNN:\n",
        "  '''\n",
        "    Implementation of a modified version of weighted KNN algorithm.\n",
        "    The class labels are given so we dont need to compute centers\n",
        "  '''\n",
        "  def __init__(self, n_classes, class_instances, points, labels, distance_function):\n",
        "    assert(n_classes * class_instances == points.shape[0])\n",
        "    self.n_classes = n_classes\n",
        "    self.K = class_instances\n",
        "    self.points = points\n",
        "    self.labels = labels\n",
        "    self.distance_function = distance_function\n",
        "\n",
        "  def predict(self, test_point):\n",
        "    '''\n",
        "      Predict the corresponding class of the self.K closest points\n",
        "    '''\n",
        "    total_pts = self.points.shape[0]\n",
        "    distances = np.array([self.distance_function(test_point, point) for point in self.points])\n",
        "    indices = self.labels\n",
        "\n",
        "    sorted_indices = distances.argsort()\n",
        "    distances = distances[sorted_indices[:self.K]]\n",
        "    labels = indices[sorted_indices[:self.K]] \n",
        "    contributions = np.zeros(self.n_classes)\n",
        "\n",
        "    for label, distance in zip(labels, distances):\n",
        "      contributions[label] += 1 / (distance + 1e-15)\n",
        "    \n",
        "    # predict the one with max weight\n",
        "    return np.argmax(contributions[:])\n"
      ],
      "metadata": {
        "id": "T56mW1pTKTEf"
      },
      "execution_count": null,
      "outputs": []
    },
    {
      "cell_type": "code",
      "source": [
        "Bert_LM = BERT_LM('bert-base-uncased')\n",
        "train_labels = np.array([data['label'] for data in train_data], dtype=np.int32)\n",
        "test_labels = np.array([data['label'] for data in test_data], dtype=np.int32)\n",
        "\n",
        "N_ITERS = 5\n",
        "N_CLASSES = 77\n",
        "\n",
        "for dist_fn in [cosine_similarity, euclidian_distance]:\n",
        "  for N_INSTANCES in range(1, 4):\n",
        "    accuracies = []\n",
        "    for i in range(N_ITERS):\n",
        "\n",
        "      # Generate encodings for randomly sampled data from training set \n",
        "      init_data, init_labels = gen_random_examples(train_data['text'], train_labels, N_CLASSES, N_INSTANCES)\n",
        "      encoded_init_data = Bert_LM.get_encodings(init_data)\n",
        "\n",
        "      # Generate encodings for test set as well\n",
        "      new_test_data, new_test_labels = gen_random_examples(test_data['text'], test_labels, N_CLASSES, N_INSTANCES)\n",
        "      encoded_test_data = Bert_LM.get_encodings(new_test_data)\n",
        "\n",
        "      # Initialize the classifier with the sampled training data\n",
        "      my_knn_classifier = KNN(N_CLASSES, N_INSTANCES, encoded_init_data, init_labels, dist_fn)\n",
        "      \n",
        "      # Predict on encoded test data\n",
        "      num, den = 0, 0\n",
        "      for text, label in zip(encoded_test_data, new_test_labels):\n",
        "        den += 1\n",
        "        pred = my_knn_classifier.predict(text)\n",
        "        if pred == label:\n",
        "          num += 1\n",
        "\n",
        "      accuracies.append(num/den)  \n",
        "    avg_acc = sum(accuracies) / N_ITERS\n",
        "    print(f\"Avg accuracy for {N_INSTANCES} nearest neighbors using {dist_fn.__name__} is {avg_acc}\")\n",
        "    print(f\"Accuracy values are: {accuracies}\")"
      ],
      "metadata": {
        "id": "mxg2fDR9Rwuu",
        "colab": {
          "base_uri": "https://localhost:8080/"
        },
        "outputId": "2323799d-18b8-4639-e14a-cd7b792ea8c6"
      },
      "execution_count": null,
      "outputs": [
        {
          "output_type": "stream",
          "name": "stderr",
          "text": [
            "Some weights of the model checkpoint at bert-base-uncased were not used when initializing BertModel: ['cls.predictions.transform.dense.bias', 'cls.predictions.transform.LayerNorm.bias', 'cls.predictions.transform.LayerNorm.weight', 'cls.predictions.transform.dense.weight', 'cls.predictions.bias', 'cls.seq_relationship.bias', 'cls.predictions.decoder.weight', 'cls.seq_relationship.weight']\n",
            "- This IS expected if you are initializing BertModel from the checkpoint of a model trained on another task or with another architecture (e.g. initializing a BertForSequenceClassification model from a BertForPreTraining model).\n",
            "- This IS NOT expected if you are initializing BertModel from the checkpoint of a model that you expect to be exactly identical (initializing a BertForSequenceClassification model from a BertForSequenceClassification model).\n"
          ]
        },
        {
          "output_type": "stream",
          "name": "stdout",
          "text": [
            "Avg accuracy for 1 nearest neighbors using cosine_similarity is 0.11688311688311688\n",
            "Accuracy values are: [0.07792207792207792, 0.12987012987012986, 0.09090909090909091, 0.16883116883116883, 0.11688311688311688]\n",
            "Avg accuracy for 2 nearest neighbors using cosine_similarity is 0.15974025974025977\n",
            "Accuracy values are: [0.17532467532467533, 0.07792207792207792, 0.12987012987012986, 0.2012987012987013, 0.21428571428571427]\n",
            "Avg accuracy for 3 nearest neighbors using cosine_similarity is 0.20086580086580086\n",
            "Accuracy values are: [0.24675324675324675, 0.18181818181818182, 0.16017316017316016, 0.22077922077922077, 0.19480519480519481]\n",
            "Avg accuracy for 1 nearest neighbors using euclidian_distance is 0.13766233766233765\n",
            "Accuracy values are: [0.09090909090909091, 0.15584415584415584, 0.15584415584415584, 0.16883116883116883, 0.11688311688311688]\n",
            "Avg accuracy for 2 nearest neighbors using euclidian_distance is 0.1883116883116883\n",
            "Accuracy values are: [0.14285714285714285, 0.2077922077922078, 0.22077922077922077, 0.22077922077922077, 0.14935064935064934]\n",
            "Avg accuracy for 3 nearest neighbors using euclidian_distance is 0.19826839826839826\n",
            "Accuracy values are: [0.19047619047619047, 0.19480519480519481, 0.19913419913419914, 0.21645021645021645, 0.19047619047619047]\n"
          ]
        }
      ]
    }
  ]
}